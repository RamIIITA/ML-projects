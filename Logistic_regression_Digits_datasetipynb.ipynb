{
  "nbformat": 4,
  "nbformat_minor": 0,
  "metadata": {
    "colab": {
      "name": "Logistic regression Digits datasetipynb",
      "version": "0.3.2",
      "provenance": [],
      "collapsed_sections": []
    },
    "kernelspec": {
      "name": "python3",
      "display_name": "Python 3"
    }
  },
  "cells": [
    {
      "cell_type": "code",
      "metadata": {
        "id": "ocvnufM1zrmL",
        "colab_type": "code",
        "colab": {}
      },
      "source": [
        "#In the Section we are trying to classify the digits which are in multiclass and apply data preprcessing steps \n",
        "#Build a model and finding its accuracy   \n",
        "\n",
        "import pandas as pd\n",
        "import numpy as np\n",
        "from sklearn.datasets import *\n",
        "from sklearn.preprocessing import StandardScaler\n",
        "from sklearn.metrics import accuracy_score\n",
        "\n",
        "data = load_digits() #Multiclass classification problem"
      ],
      "execution_count": 0,
      "outputs": []
    },
    {
      "cell_type": "code",
      "metadata": {
        "id": "wc7z7G0m2cJj",
        "colab_type": "code",
        "colab": {
          "base_uri": "https://localhost:8080/",
          "height": 158
        },
        "outputId": "26ec771a-845f-4929-a730-70fddee926e5"
      },
      "source": [
        "X = data.data\n",
        "print(X.shape)\n",
        "print(X)"
      ],
      "execution_count": 2,
      "outputs": [
        {
          "output_type": "stream",
          "text": [
            "(1797, 64)\n",
            "[[ 0.  0.  5. ...  0.  0.  0.]\n",
            " [ 0.  0.  0. ... 10.  0.  0.]\n",
            " [ 0.  0.  0. ... 16.  9.  0.]\n",
            " ...\n",
            " [ 0.  0.  1. ...  6.  0.  0.]\n",
            " [ 0.  0.  2. ... 12.  0.  0.]\n",
            " [ 0.  0. 10. ... 12.  1.  0.]]\n"
          ],
          "name": "stdout"
        }
      ]
    },
    {
      "cell_type": "code",
      "metadata": {
        "id": "fd1GFR0_2gBz",
        "colab_type": "code",
        "colab": {
          "base_uri": "https://localhost:8080/",
          "height": 70
        },
        "outputId": "78b49b84-e3a2-4542-e438-07cee0ee9297"
      },
      "source": [
        "y =data.target\n",
        "print(y.shape)\n",
        "print(y)\n",
        "print(np.unique(y)) #TO print the no. of unique classes"
      ],
      "execution_count": 3,
      "outputs": [
        {
          "output_type": "stream",
          "text": [
            "(1797,)\n",
            "[0 1 2 ... 8 9 8]\n",
            "[0 1 2 3 4 5 6 7 8 9]\n"
          ],
          "name": "stdout"
        }
      ]
    },
    {
      "cell_type": "code",
      "metadata": {
        "id": "VRwI_Ey95lNC",
        "colab_type": "code",
        "colab": {}
      },
      "source": [
        "from sklearn.linear_model import LogisticRegressionCV\n",
        "from sklearn.model_selection import train_test_split\n",
        "from sklearn.multiclass import OneVsRestClassifier\n"
      ],
      "execution_count": 0,
      "outputs": []
    },
    {
      "cell_type": "code",
      "metadata": {
        "id": "89gRRHuJ52mz",
        "colab_type": "code",
        "colab": {}
      },
      "source": [
        "#splitting the data in to train and test in 70:30 ratio\n",
        "X_train, X_test, y_train, y_test = train_test_split(X, y, test_size = 0.3) \n",
        "\n",
        "#Standariziing the dataset values and fitting the X_train values\n",
        "scalar=StandardScaler().fit(X_train)\n",
        "\n",
        "#Transforming the X_train and X_test calues \n",
        "X_train=scalar.transform(X_train)\n",
        "X_test=scalar.transform(X_test)"
      ],
      "execution_count": 0,
      "outputs": []
    },
    {
      "cell_type": "code",
      "metadata": {
        "id": "zWU3ftRO_niO",
        "colab_type": "code",
        "colab": {}
      },
      "source": [
        "from warnings import filterwarnings\n",
        "filterwarnings('ignore')\n",
        "\n",
        "#Creating Losgisitc regression model with Crossvalidation of 5 using the and find the best fit\n",
        "clr = LogisticRegressionCV(multi_class='multinomial',cv=5).fit(X_train, y_train)"
      ],
      "execution_count": 0,
      "outputs": []
    },
    {
      "cell_type": "code",
      "metadata": {
        "id": "t-Yc_d7I7RIS",
        "colab_type": "code",
        "colab": {
          "base_uri": "https://localhost:8080/",
          "height": 35
        },
        "outputId": "a5c43aa6-bb06-441c-852e-953543a5a9a8"
      },
      "source": [
        "clr.Cs #Best C value"
      ],
      "execution_count": 7,
      "outputs": [
        {
          "output_type": "execute_result",
          "data": {
            "text/plain": [
              "10"
            ]
          },
          "metadata": {
            "tags": []
          },
          "execution_count": 7
        }
      ]
    },
    {
      "cell_type": "code",
      "metadata": {
        "id": "opAFW_MIBuwH",
        "colab_type": "code",
        "colab": {
          "base_uri": "https://localhost:8080/",
          "height": 105
        },
        "outputId": "2b61b19e-9887-43ee-c834-9605ab0ba04f"
      },
      "source": [
        "print(clr.score)"
      ],
      "execution_count": 8,
      "outputs": [
        {
          "output_type": "stream",
          "text": [
            "<bound method LogisticRegressionCV.score of LogisticRegressionCV(Cs=10, class_weight=None, cv=5, dual=False,\n",
            "                     fit_intercept=True, intercept_scaling=1.0, l1_ratios=None,\n",
            "                     max_iter=100, multi_class='multinomial', n_jobs=None,\n",
            "                     penalty='l2', random_state=None, refit=True, scoring=None,\n",
            "                     solver='lbfgs', tol=0.0001, verbose=0)>\n"
          ],
          "name": "stdout"
        }
      ]
    },
    {
      "cell_type": "code",
      "metadata": {
        "id": "Bh_SP0Tn7mFy",
        "colab_type": "code",
        "colab": {}
      },
      "source": [
        "#Predicting the class labels\n",
        "y_pre = clr.predict(X_test)   #Predicting the labels\n",
        "y_pre_prob = clr.predict_proba(X_test) # Predicting the class probabilities"
      ],
      "execution_count": 0,
      "outputs": []
    },
    {
      "cell_type": "code",
      "metadata": {
        "id": "K4S2VsiLDCl0",
        "colab_type": "code",
        "colab": {
          "base_uri": "https://localhost:8080/",
          "height": 35
        },
        "outputId": "f324ae62-5dc6-4bac-8c85-b4c8c98c8ef1"
      },
      "source": [
        "acc = accuracy_score(y_test, y_pre)\n",
        "print(acc)"
      ],
      "execution_count": 10,
      "outputs": [
        {
          "output_type": "stream",
          "text": [
            "0.9518518518518518\n"
          ],
          "name": "stdout"
        }
      ]
    },
    {
      "cell_type": "markdown",
      "metadata": {
        "id": "F1uLbblVJn9v",
        "colab_type": "text"
      },
      "source": [
        "Summary:\n",
        "\n",
        "We have analysed the digits dataset available at Scikitlearn.\n",
        "\n",
        "At first step we have load the data to X and labels to Y.\n",
        "\n",
        "Second set we have splitted the data in Xtrain, X-test, y_train and y-test\n",
        "we have standarized the values of data (Xtrain and X-test)\n",
        "we didn't performed any preprocessin steps due to dataset is available in \n",
        "integer form and ther are no missing values\n",
        "\n",
        "we have performed Logisitc regressio with crossvalidation\n",
        "we have found out optimum C value of 1 \n",
        "\n",
        "we have found the accuracy of the model is >95% at the end od testing"
      ]
    },
    {
      "cell_type": "code",
      "metadata": {
        "id": "UnvGdEWvLVfr",
        "colab_type": "code",
        "colab": {}
      },
      "source": [
        "#Saving the model in file\n",
        "import pickle\n",
        "\n",
        "fle = open('Log_reg_digits_model.sav', 'wb')\n",
        "pickle.dump(clr, fle)\n",
        "\n",
        "#Loading the model from the file\n",
        "model = pickle.load(open('Log_reg_digits_model.sav', 'rb'))"
      ],
      "execution_count": 0,
      "outputs": []
    },
    {
      "cell_type": "code",
      "metadata": {
        "id": "AQk5wsD2LaJ0",
        "colab_type": "code",
        "colab": {}
      },
      "source": [
        ""
      ],
      "execution_count": 0,
      "outputs": []
    },
    {
      "cell_type": "code",
      "metadata": {
        "id": "XIv-czX5Nc5E",
        "colab_type": "code",
        "colab": {}
      },
      "source": [
        ""
      ],
      "execution_count": 0,
      "outputs": []
    }
  ]
}