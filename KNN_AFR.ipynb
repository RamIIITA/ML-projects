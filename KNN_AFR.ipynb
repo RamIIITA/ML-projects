{
  "nbformat": 4,
  "nbformat_minor": 0,
  "metadata": {
    "colab": {
      "name": "KNN_trail.ipynb",
      "version": "0.3.2",
      "provenance": [],
      "collapsed_sections": [],
      "toc_visible": true
    },
    "kernelspec": {
      "name": "python3",
      "display_name": "Python 3"
    }
  },
  "cells": [
    {
      "cell_type": "code",
      "metadata": {
        "id": "P_Ilb6ykOjmw",
        "colab_type": "code",
        "colab": {}
      },
      "source": [
        "import pandas as pd\n",
        "import numpy as np\n",
        "import matplotlib.pyplot as plt\n"
      ],
      "execution_count": 0,
      "outputs": []
    },
    {
      "cell_type": "code",
      "metadata": {
        "id": "6JnkAFpiOt04",
        "colab_type": "code",
        "outputId": "422f4c63-ecce-42b1-cb3a-75ca4db5c22f",
        "colab": {
          "base_uri": "https://localhost:8080/",
          "height": 55
        }
      },
      "source": [
        "from google.colab import drive\n",
        "drive.mount('/content/gdrive')"
      ],
      "execution_count": 187,
      "outputs": [
        {
          "output_type": "stream",
          "text": [
            "Drive already mounted at /content/gdrive; to attempt to forcibly remount, call drive.mount(\"/content/gdrive\", force_remount=True).\n"
          ],
          "name": "stdout"
        }
      ]
    },
    {
      "cell_type": "code",
      "metadata": {
        "id": "QZhwsH7iR1nF",
        "colab_type": "code",
        "colab": {}
      },
      "source": [
        "import sqlite3\n",
        "con = sqlite3.connect('/content/gdrive/My Drive/database.sqlite')  "
      ],
      "execution_count": 0,
      "outputs": []
    },
    {
      "cell_type": "code",
      "metadata": {
        "id": "YjJke0saRplJ",
        "colab_type": "code",
        "colab": {
          "base_uri": "https://localhost:8080/",
          "height": 35
        },
        "outputId": "2499fee4-5d01-47eb-b4b1-466cebf83724"
      },
      "source": [
        "filtered_data=pd.read_sql_query(\"\"\"\n",
        "SELECT * \n",
        "FROM REVIEWS\n",
        "WHERE Score != 3 limit 100000\"\"\",con)\n",
        "print(filtered_data.shape)"
      ],
      "execution_count": 211,
      "outputs": [
        {
          "output_type": "stream",
          "text": [
            "(100000, 10)\n"
          ],
          "name": "stdout"
        }
      ]
    },
    {
      "cell_type": "code",
      "metadata": {
        "id": "7Z1P5PVETxzh",
        "colab_type": "code",
        "colab": {}
      },
      "source": [
        "y=filtered_data['Score']\n",
        "y=y[:100000][:]"
      ],
      "execution_count": 0,
      "outputs": []
    },
    {
      "cell_type": "code",
      "metadata": {
        "id": "3kUZPUqYWy_F",
        "colab_type": "code",
        "colab": {
          "base_uri": "https://localhost:8080/",
          "height": 52
        },
        "outputId": "8bf828c1-b0d2-4eec-eb7a-676d23d8479c"
      },
      "source": [
        "x= filtered_data['Text']\n",
        "print(len(x))\n",
        "type(x)"
      ],
      "execution_count": 213,
      "outputs": [
        {
          "output_type": "stream",
          "text": [
            "100000\n"
          ],
          "name": "stdout"
        },
        {
          "output_type": "execute_result",
          "data": {
            "text/plain": [
              "pandas.core.series.Series"
            ]
          },
          "metadata": {
            "tags": []
          },
          "execution_count": 213
        }
      ]
    },
    {
      "cell_type": "code",
      "metadata": {
        "id": "3rwxaoU7Xf5a",
        "colab_type": "code",
        "colab": {
          "base_uri": "https://localhost:8080/",
          "height": 229
        },
        "outputId": "37578139-5a9a-4ae0-cb7f-8befa354e864"
      },
      "source": [
        "y=y[:100000]\n",
        "len(y)\n",
        "print(y.head())\n",
        "\n",
        "for i in range(len(y)):\n",
        "  if y[i]<3:\n",
        "    y[i]=0\n",
        "  else:\n",
        "    y[i]=1\n",
        "print(y.head())"
      ],
      "execution_count": 214,
      "outputs": [
        {
          "output_type": "stream",
          "text": [
            "0    5\n",
            "1    1\n",
            "2    4\n",
            "3    2\n",
            "4    5\n",
            "Name: Score, dtype: int64\n",
            "0    1\n",
            "1    0\n",
            "2    1\n",
            "3    0\n",
            "4    1\n",
            "Name: Score, dtype: int64\n"
          ],
          "name": "stdout"
        }
      ]
    },
    {
      "cell_type": "code",
      "metadata": {
        "id": "aLsCuaHjW60T",
        "colab_type": "code",
        "colab": {}
      },
      "source": [
        "from sklearn.model_selection import train_test_split\n",
        "\n",
        "x_train, x_test, y_train, y_test = train_test_split(x, y, test_size=0.33) #splitting the train  and test"
      ],
      "execution_count": 0,
      "outputs": []
    },
    {
      "cell_type": "code",
      "metadata": {
        "id": "Z_6yCvejX1pD",
        "colab_type": "code",
        "colab": {}
      },
      "source": [
        "x_train, x_cv, y_train, y_cv = train_test_split(x_train, y_train, test_size=0.33) # this is random splitting"
      ],
      "execution_count": 0,
      "outputs": []
    },
    {
      "cell_type": "code",
      "metadata": {
        "id": "osGnBw5HX-ja",
        "colab_type": "code",
        "colab": {
          "base_uri": "https://localhost:8080/",
          "height": 70
        },
        "outputId": "16e87f45-0676-4df6-870b-a46232ece10d"
      },
      "source": [
        "print(x_train.shape, y_train.shape)\n",
        "print(x_cv.shape, y_cv.shape)\n",
        "print(x_test.shape, y_test.shape)"
      ],
      "execution_count": 217,
      "outputs": [
        {
          "output_type": "stream",
          "text": [
            "(44890,) (44890,)\n",
            "(22110,) (22110,)\n",
            "(33000,) (33000,)\n"
          ],
          "name": "stdout"
        }
      ]
    },
    {
      "cell_type": "code",
      "metadata": {
        "id": "HMoYEnMXT0SB",
        "colab_type": "code",
        "colab": {}
      },
      "source": [
        "from sklearn.feature_extraction.text import TfidfVectorizer"
      ],
      "execution_count": 0,
      "outputs": []
    },
    {
      "cell_type": "code",
      "metadata": {
        "id": "Y2h_scpxUBOx",
        "colab_type": "code",
        "colab": {}
      },
      "source": [
        "tfidf = TfidfVectorizer(ngram_range=(1,2))"
      ],
      "execution_count": 0,
      "outputs": []
    },
    {
      "cell_type": "code",
      "metadata": {
        "id": "tzZEOvmPUDsx",
        "colab_type": "code",
        "colab": {}
      },
      "source": [
        "tfidf_fit = tfidf.fit(x_train)"
      ],
      "execution_count": 0,
      "outputs": []
    },
    {
      "cell_type": "code",
      "metadata": {
        "id": "8o8ytYXgYaiQ",
        "colab_type": "code",
        "colab": {}
      },
      "source": [
        "x_train_tfidf = tfidf.transform(x_train)\n",
        "x_cv_tfidf = tfidf.transform(x_cv)\n",
        "x_test_tfidf = tfidf.transform(x_test)"
      ],
      "execution_count": 0,
      "outputs": []
    },
    {
      "cell_type": "code",
      "metadata": {
        "id": "WgzRgyl-Y2Ay",
        "colab_type": "code",
        "colab": {
          "base_uri": "https://localhost:8080/",
          "height": 70
        },
        "outputId": "e9190b4a-3cde-4adc-9705-7d11e8b8141b"
      },
      "source": [
        "print(x_train_tfidf.shape, y_train.shape)\n",
        "print(x_cv_tfidf.shape, y_cv.shape)\n",
        "print(x_test_tfidf.shape, y_test.shape)"
      ],
      "execution_count": 223,
      "outputs": [
        {
          "output_type": "stream",
          "text": [
            "(44890, 705608) (44890,)\n",
            "(22110, 705608) (22110,)\n",
            "(33000, 705608) (33000,)\n"
          ],
          "name": "stdout"
        }
      ]
    },
    {
      "cell_type": "markdown",
      "metadata": {
        "id": "3LQ8bvrGZSms",
        "colab_type": "text"
      },
      "source": [
        ""
      ]
    },
    {
      "cell_type": "markdown",
      "metadata": {
        "id": "Bg_ArR55ZUqD",
        "colab_type": "text"
      },
      "source": [
        "# Hyper parameter Tuning"
      ]
    },
    {
      "cell_type": "code",
      "metadata": {
        "id": "mGA8SohUZWYx",
        "colab_type": "code",
        "colab": {}
      },
      "source": [
        "from sklearn.neighbors import KNeighborsClassifier\n",
        "from sklearn.metrics import roc_auc_score\n",
        "\n",
        "import matplotlib.pyplot as plt\n",
        "\n",
        "y_cv = y_cv.astype(int)\n",
        "y_train = y_train.astype(int)\n",
        "y_test = y_test.astype(int)\n",
        "\n",
        "x_train_auc =[]\n",
        "x_cv_auc = []\n",
        "k = [1,5,10,15,20,25,30,35,45,55]\n",
        "#k = [5]\n",
        "for i in k:\n",
        "  neigh = KNeighborsClassifier(n_neighbors=i)\n",
        "  neigh.fit(x_train_tfidf, y_train)\n",
        "  y_train_pred = neigh.predict_proba(x_train_tfidf)[:,1]\n",
        "  y_cv_pred = neigh.predict_proba(x_cv_tfidf)[:,1]\n",
        "  x_train_auc.append(roc_auc_score(y_train, y_train_pred))\n",
        "  x_cv_auc.append(roc_auc_score(y_cv, y_cv_pred))\n",
        "\n",
        " "
      ],
      "execution_count": 0,
      "outputs": []
    },
    {
      "cell_type": "code",
      "metadata": {
        "id": "FZltW0YNAZoO",
        "colab_type": "code",
        "colab": {}
      },
      "source": [
        "\n",
        " "
      ],
      "execution_count": 0,
      "outputs": []
    },
    {
      "cell_type": "code",
      "metadata": {
        "id": "WyI9_H55enyB",
        "colab_type": "code",
        "colab": {
          "base_uri": "https://localhost:8080/",
          "height": 295
        },
        "outputId": "4135ac83-5ee4-41cb-9698-8d6664edd4e2"
      },
      "source": [
        "plt.plot(k, x_train_auc, label='Train AUC')\n",
        "plt.plot(k, x_cv_auc, label=\"CV AUC\")\n",
        "plt.legend()\n",
        "plt.xlabel(\"K: hyperparameter\")\n",
        "plt.ylabel(\"AUC\")\n",
        "plt.title(\"Accuracy plot\")\n",
        "plt.show()\n",
        "\n"
      ],
      "execution_count": 230,
      "outputs": [
        {
          "output_type": "display_data",
          "data": {
            "image/png": "[encoded data removed]",
            "text/plain": [
              "<Figure size 432x288 with 1 Axes>"
            ]
          },
          "metadata": {
            "tags": []
          }
        }
      ]
    },
    {
      "cell_type": "code",
      "metadata": {
        "id": "g_l7F8dxwhti",
        "colab_type": "code",
        "colab": {}
      },
      "source": [
        "best_k = 15\n",
        "\n",
        "# https://scikit-learn.org/stable/modules/generated/sklearn.metrics.roc_curve.html#sklearn.metrics.roc_curve\n",
        "from sklearn.metrics import roc_curve, auc\n",
        "\n",
        "\n",
        "neigh = KNeighborsClassifier(n_neighbors=best_k)\n",
        "neigh.fit(x_train_tfidf, y_train)\n",
        "# roc_auc_score(y_true, y_score) the 2nd parameter should be probability estimates of the positive class\n",
        "# not the predicted outputs\n",
        "\n",
        "train_fpr, train_tpr, thresholds = roc_curve(y_train, neigh.predict_proba(x_train_tfidf)[:,1])\n",
        "test_fpr, test_tpr, thresholds = roc_curve(y_test, neigh.predict_proba(x_test_tfidf)[:,1])\n",
        "\n"
      ],
      "execution_count": 0,
      "outputs": []
    },
    {
      "cell_type": "code",
      "metadata": {
        "id": "olIhOP8aVvUw",
        "colab_type": "code",
        "colab": {
          "base_uri": "https://localhost:8080/",
          "height": 295
        },
        "outputId": "7d78f860-b4b3-4aba-9754-b20d4a7302fb"
      },
      "source": [
        "plt.plot(train_fpr, train_tpr, label=\"train AUC =\"+str(auc(train_fpr, train_tpr)))\n",
        "plt.plot(test_fpr, test_tpr, label=\"test AUC =\"+str(auc(test_fpr, test_tpr)))\n",
        "plt.legend()\n",
        "plt.xlabel(\"K: hyperparameter\")\n",
        "plt.ylabel(\"AUC\")\n",
        "plt.title(\"ERROR PLOTS\")\n",
        "plt.show()"
      ],
      "execution_count": 234,
      "outputs": [
        {
          "output_type": "display_data",
          "data": {
            "image/png": "[encoded data removed]",
            "text/plain": [
              "<Figure size 432x288 with 1 Axes>"
            ]
          },
          "metadata": {
            "tags": []
          }
        }
      ]
    },
    {
      "cell_type": "code",
      "metadata": {
        "id": "nlc2gaYXTPJN",
        "colab_type": "code",
        "colab": {
          "base_uri": "https://localhost:8080/",
          "height": 141
        },
        "outputId": "cbc47c95-e6db-4e2a-8a2f-00fda849e877"
      },
      "source": [
        "print(\"=\"*100)\n",
        "from sklearn.metrics import confusion_matrix\n",
        "print(\"Train confusion matrix\")\n",
        "print(confusion_matrix(y_train, neigh.predict(x_train_tfidf)))\n",
        "print(\"Test confusion matrix\")\n",
        "print(confusion_matrix(y_test, neigh.predict(x_test_tfidf)))\n",
        "\n"
      ],
      "execution_count": 233,
      "outputs": [
        {
          "output_type": "stream",
          "text": [
            "====================================================================================================\n",
            "Train confusion matrix\n",
            "[[ 1762  5494]\n",
            " [  790 36844]]\n",
            "Test confusion matrix\n",
            "[[ 1125  4198]\n",
            " [  599 27078]]\n"
          ],
          "name": "stdout"
        }
      ]
    },
    {
      "cell_type": "code",
      "metadata": {
        "id": "OzW2O7K9NS_s",
        "colab_type": "code",
        "colab": {}
      },
      "source": [
        ""
      ],
      "execution_count": 0,
      "outputs": []
    },
    {
      "cell_type": "code",
      "metadata": {
        "id": "pD9jAWES_2Xi",
        "colab_type": "code",
        "colab": {}
      },
      "source": [
        ""
      ],
      "execution_count": 0,
      "outputs": []
    }
  ]
}